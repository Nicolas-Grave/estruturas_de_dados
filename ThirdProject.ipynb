{
  "nbformat": 4,
  "nbformat_minor": 0,
  "metadata": {
    "colab": {
      "name": "ThirdProject.ipynb",
      "provenance": [],
      "collapsed_sections": []
    },
    "kernelspec": {
      "name": "python3",
      "display_name": "Python 3"
    }
  },
  "cells": [
    {
      "cell_type": "code",
      "metadata": {
        "id": "8x64-iWRpvv-",
        "colab_type": "code",
        "colab": {}
      },
      "source": [
        "import pandas as pd\n",
        "import math"
      ],
      "execution_count": 0,
      "outputs": []
    },
    {
      "cell_type": "code",
      "metadata": {
        "id": "ob4I2WY8s06D",
        "colab_type": "code",
        "colab": {}
      },
      "source": [
        "import matplotlib.pyplot as plt"
      ],
      "execution_count": 0,
      "outputs": []
    },
    {
      "cell_type": "code",
      "metadata": {
        "id": "NBJxcb_bqohC",
        "colab_type": "code",
        "colab": {}
      },
      "source": [
        "clients = pd.read_csv(\"clients.txt\", sep=\" \", header=None, names=[\"client\", \"x\", \"y\", \"supplier\", \"dist\"], dtype={\"client\": str, \"x\": float, \"y\": float, \"supplier\": str, \"dist\": float})"
      ],
      "execution_count": 0,
      "outputs": []
    },
    {
      "cell_type": "code",
      "metadata": {
        "id": "99oyPnfYwU2m",
        "colab_type": "code",
        "colab": {}
      },
      "source": [
        "suppliers = pd.DataFrame([\n",
        "    { \"supplier\": \"A\", \"x\": 0.0715, \"y\": 0.5984 },\n",
        "    { \"supplier\": \"B\", \"x\": 0.2336, \"y\": 0.2094 },\n",
        "    { \"supplier\": \"C\", \"x\": 0.0612, \"y\": 0.8530 },\n",
        "    { \"supplier\": \"D\", \"x\": 0.5088, \"y\": 0.4992 },\n",
        "    { \"supplier\": \"E\", \"x\": 0.5567, \"y\": 0.8742 },\n",
        "    { \"supplier\": \"F\", \"x\": 0.0944, \"y\": 0.0894 },\n",
        "    { \"supplier\": \"G\", \"x\": 0.9028, \"y\": 0.4606 }\n",
        "])"
      ],
      "execution_count": 0,
      "outputs": []
    },
    {
      "cell_type": "code",
      "metadata": {
        "id": "poNLIMr1qtUO",
        "colab_type": "code",
        "colab": {}
      },
      "source": [
        "ax1 = clients.plot(kind='scatter',x='x',y='y', figsize=(16,16))\n",
        "ax2 = suppliers.plot(kind='scatter', x='x', y='y', color='r', ax=ax1)\n",
        "print(ax1 == ax2)"
      ],
      "execution_count": 0,
      "outputs": []
    },
    {
      "cell_type": "code",
      "metadata": {
        "id": "1WIJLAtI0I-Z",
        "colab_type": "code",
        "colab": {}
      },
      "source": [
        "def distance(clientX, clientY, supplierX, supplierY):\n",
        " dist = (supplierX - clientX)**2 + (supplierY - clientY)**2\n",
        " return math.sqrt(dist)"
      ],
      "execution_count": 0,
      "outputs": []
    },
    {
      "cell_type": "code",
      "metadata": {
        "id": "J30goKvbrQsc",
        "colab_type": "code",
        "colab": {}
      },
      "source": [
        "for i, clientRow in clients.iterrows():\n",
        "  for supplierRow in suppliers.itertuples():\n",
        "    dist = distance(clientRow.x, clientRow.y, supplierRow.x, supplierRow.y)\n",
        "    \n",
        "    if math.isnan(clientRow.dist) or dist < clientRow.dist:\n",
        "      clientRow.supplier = supplierRow.supplier\n",
        "      clientRow.dist = dist\n",
        "  \n",
        "  clients.at[i, \"supplier\"] = clientRow.supplier\n",
        "  clients.at[i, \"dist\"] = clientRow.dist"
      ],
      "execution_count": 0,
      "outputs": []
    },
    {
      "cell_type": "code",
      "metadata": {
        "id": "UpbYOzaozy2O",
        "colab_type": "code",
        "colab": {}
      },
      "source": [
        "for name, group in clients.groupby(\"supplier\"):\n",
        "  print(\"Supplier:\", name, \"has\", len(group), \"clients\")\n",
        "  print(group.sort_values(by=\"dist\", ascending=False).client)"
      ],
      "execution_count": 0,
      "outputs": []
    }
  ]
}